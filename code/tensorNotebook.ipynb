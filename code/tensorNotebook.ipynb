{
 "cells": [
  {
   "cell_type": "code",
   "execution_count": 3,
   "id": "4243c7fb",
   "metadata": {},
   "outputs": [],
   "source": [
    "import torch\n",
    "import pandas as pd"
   ]
  },
  {
   "cell_type": "markdown",
   "id": "16e22be9",
   "metadata": {},
   "source": [
    "### 1. Create Tensor"
   ]
  },
  {
   "cell_type": "markdown",
   "id": "2d2a9205",
   "metadata": {},
   "source": [
    "1-D Tensor"
   ]
  },
  {
   "cell_type": "code",
   "execution_count": 4,
   "id": "ed9f6482",
   "metadata": {},
   "outputs": [
    {
     "name": "stdout",
     "output_type": "stream",
     "text": [
      "tensor([1, 2, 3])\n"
     ]
    }
   ],
   "source": [
    "x_list = [1,2,3]\n",
    "x = torch.tensor(x_list)\n",
    "print(x)"
   ]
  },
  {
   "cell_type": "markdown",
   "id": "0262a0eb",
   "metadata": {},
   "source": [
    "attributes of a tensor"
   ]
  },
  {
   "cell_type": "code",
   "execution_count": 5,
   "id": "c2257f84",
   "metadata": {},
   "outputs": [
    {
     "name": "stdout",
     "output_type": "stream",
     "text": [
      "tensor shape:  torch.Size([3])\n"
     ]
    }
   ],
   "source": [
    "#shape\n",
    "print('tensor shape: ', x.shape)"
   ]
  },
  {
   "cell_type": "code",
   "execution_count": 6,
   "id": "66342a9c",
   "metadata": {},
   "outputs": [
    {
     "name": "stdout",
     "output_type": "stream",
     "text": [
      "tensor data type:  torch.int64\n"
     ]
    }
   ],
   "source": [
    "#data type\n",
    "print('tensor data type: ', x.dtype)"
   ]
  },
  {
   "cell_type": "code",
   "execution_count": 7,
   "id": "b8393102",
   "metadata": {},
   "outputs": [
    {
     "name": "stdout",
     "output_type": "stream",
     "text": [
      "tensor operations on device:  cpu\n"
     ]
    }
   ],
   "source": [
    "#device for operation\n",
    "print('tensor operations on device: ', x.device)"
   ]
  },
  {
   "cell_type": "markdown",
   "id": "f31317ee",
   "metadata": {},
   "source": [
    "2-D tensor(also called matrix)"
   ]
  },
  {
   "cell_type": "code",
   "execution_count": 8,
   "id": "8dd5ff0e",
   "metadata": {},
   "outputs": [
    {
     "name": "stdout",
     "output_type": "stream",
     "text": [
      "tesor shape:  torch.Size([2, 3])\n",
      "tensor data type:  torch.int64\n",
      "tensor operations on device:  cpu\n"
     ]
    }
   ],
   "source": [
    "x_list = [[1,2,3], [4,5,6]]\n",
    "x = torch.tensor(x_list)\n",
    "\n",
    "print('tesor shape: ', x.shape)\n",
    "print('tensor data type: ', x.dtype)\n",
    "print('tensor operations on device: ', x.device)"
   ]
  },
  {
   "cell_type": "markdown",
   "id": "c1b313f3",
   "metadata": {},
   "source": [
    "3-D Tensor"
   ]
  },
  {
   "cell_type": "code",
   "execution_count": 9,
   "id": "9afb62ce",
   "metadata": {},
   "outputs": [],
   "source": [
    "x_list = [[[1], [2]], [[3], [4]], [[5], [6]]]\n",
    "x = torch.tensor(x_list)"
   ]
  },
  {
   "cell_type": "code",
   "execution_count": 10,
   "id": "3c4a4596",
   "metadata": {},
   "outputs": [
    {
     "name": "stdout",
     "output_type": "stream",
     "text": [
      "tensor shape torch.Size([3, 2, 1])\n",
      "tensor data type:  torch.int64\n",
      "tensor operations on device:  cpu\n"
     ]
    }
   ],
   "source": [
    "print('tensor shape', x.shape)\n",
    "print('tensor data type: ', x.dtype)\n",
    "print('tensor operations on device: ', x.device)"
   ]
  },
  {
   "cell_type": "markdown",
   "id": "eb6f3aba",
   "metadata": {},
   "source": [
    "Empty Tensor"
   ]
  },
  {
   "cell_type": "code",
   "execution_count": 11,
   "id": "d44db639",
   "metadata": {},
   "outputs": [
    {
     "name": "stdout",
     "output_type": "stream",
     "text": [
      "empty tensor \n",
      " tensor([0., 0., 0., 0., 0., 0.])\n"
     ]
    }
   ],
   "source": [
    "x = torch.zeros((6))\n",
    "\n",
    "print('empty tensor \\n', x)"
   ]
  },
  {
   "cell_type": "code",
   "execution_count": 12,
   "id": "0cdd1f0f",
   "metadata": {},
   "outputs": [
    {
     "name": "stdout",
     "output_type": "stream",
     "text": [
      "modified tensor \n",
      " tensor([1., 2., 3., 4., 5., 6.])\n"
     ]
    }
   ],
   "source": [
    "for i in range(6):\n",
    "    x[i] = i+1\n",
    "\n",
    "print('modified tensor \\n', x)"
   ]
  },
  {
   "cell_type": "code",
   "execution_count": 13,
   "id": "8847d093",
   "metadata": {},
   "outputs": [
    {
     "data": {
      "text/plain": [
       "tensor([1., 1., 1., 1., 1., 1.])"
      ]
     },
     "execution_count": 13,
     "metadata": {},
     "output_type": "execute_result"
    }
   ],
   "source": [
    "torch.ones((6))"
   ]
  },
  {
   "cell_type": "markdown",
   "id": "157273b3",
   "metadata": {},
   "source": [
    "#### Creating tensors from Dataset"
   ]
  },
  {
   "cell_type": "code",
   "execution_count": 33,
   "id": "71b63e97",
   "metadata": {},
   "outputs": [
    {
     "name": "stdout",
     "output_type": "stream",
     "text": [
      "The dataset has 16 attributes: \n",
      " ['year' 'customer_id' 'phone_no' 'gender' 'age' 'no_of_days_subscribed'\n",
      " 'multi_screen' 'mail_subscribed' 'weekly_mins_watched'\n",
      " 'minimum_daily_mins' 'maximum_daily_mins' 'weekly_max_night_mins'\n",
      " 'videos_watched' 'maximum_days_inactive' 'customer_support_calls' 'churn']\n"
     ]
    }
   ],
   "source": [
    "data_path = \"../data/churn_data.csv\"\n",
    "\n",
    "df = pd.read_csv('../../data/churn_data.csv')\n",
    "\n",
    "column_names = df.columns.values\n",
    "\n",
    "print('The dataset has {} attributes: \\n {}'.format(len(column_names), column_names))\n"
   ]
  },
  {
   "cell_type": "code",
   "execution_count": 34,
   "id": "3984ce25",
   "metadata": {},
   "outputs": [
    {
     "data": {
      "text/html": [
       "<div>\n",
       "<style scoped>\n",
       "    .dataframe tbody tr th:only-of-type {\n",
       "        vertical-align: middle;\n",
       "    }\n",
       "\n",
       "    .dataframe tbody tr th {\n",
       "        vertical-align: top;\n",
       "    }\n",
       "\n",
       "    .dataframe thead th {\n",
       "        text-align: right;\n",
       "    }\n",
       "</style>\n",
       "<table border=\"1\" class=\"dataframe\">\n",
       "  <thead>\n",
       "    <tr style=\"text-align: right;\">\n",
       "      <th></th>\n",
       "      <th>year</th>\n",
       "      <th>customer_id</th>\n",
       "      <th>phone_no</th>\n",
       "      <th>gender</th>\n",
       "      <th>age</th>\n",
       "      <th>no_of_days_subscribed</th>\n",
       "      <th>multi_screen</th>\n",
       "      <th>mail_subscribed</th>\n",
       "      <th>weekly_mins_watched</th>\n",
       "      <th>minimum_daily_mins</th>\n",
       "      <th>maximum_daily_mins</th>\n",
       "      <th>weekly_max_night_mins</th>\n",
       "      <th>videos_watched</th>\n",
       "      <th>maximum_days_inactive</th>\n",
       "      <th>customer_support_calls</th>\n",
       "      <th>churn</th>\n",
       "    </tr>\n",
       "  </thead>\n",
       "  <tbody>\n",
       "    <tr>\n",
       "      <th>0</th>\n",
       "      <td>2015</td>\n",
       "      <td>100198</td>\n",
       "      <td>409-8743</td>\n",
       "      <td>Female</td>\n",
       "      <td>36</td>\n",
       "      <td>62</td>\n",
       "      <td>no</td>\n",
       "      <td>no</td>\n",
       "      <td>148.35</td>\n",
       "      <td>12.2</td>\n",
       "      <td>16.81</td>\n",
       "      <td>82</td>\n",
       "      <td>1</td>\n",
       "      <td>4.0</td>\n",
       "      <td>1</td>\n",
       "      <td>0.0</td>\n",
       "    </tr>\n",
       "    <tr>\n",
       "      <th>1</th>\n",
       "      <td>2015</td>\n",
       "      <td>100643</td>\n",
       "      <td>340-5930</td>\n",
       "      <td>Female</td>\n",
       "      <td>39</td>\n",
       "      <td>149</td>\n",
       "      <td>no</td>\n",
       "      <td>no</td>\n",
       "      <td>294.45</td>\n",
       "      <td>7.7</td>\n",
       "      <td>33.37</td>\n",
       "      <td>87</td>\n",
       "      <td>3</td>\n",
       "      <td>3.0</td>\n",
       "      <td>2</td>\n",
       "      <td>0.0</td>\n",
       "    </tr>\n",
       "    <tr>\n",
       "      <th>2</th>\n",
       "      <td>2015</td>\n",
       "      <td>100756</td>\n",
       "      <td>372-3750</td>\n",
       "      <td>Female</td>\n",
       "      <td>65</td>\n",
       "      <td>126</td>\n",
       "      <td>no</td>\n",
       "      <td>no</td>\n",
       "      <td>87.30</td>\n",
       "      <td>11.9</td>\n",
       "      <td>9.89</td>\n",
       "      <td>91</td>\n",
       "      <td>1</td>\n",
       "      <td>4.0</td>\n",
       "      <td>5</td>\n",
       "      <td>1.0</td>\n",
       "    </tr>\n",
       "    <tr>\n",
       "      <th>3</th>\n",
       "      <td>2015</td>\n",
       "      <td>101595</td>\n",
       "      <td>331-4902</td>\n",
       "      <td>Female</td>\n",
       "      <td>24</td>\n",
       "      <td>131</td>\n",
       "      <td>no</td>\n",
       "      <td>yes</td>\n",
       "      <td>321.30</td>\n",
       "      <td>9.5</td>\n",
       "      <td>36.41</td>\n",
       "      <td>102</td>\n",
       "      <td>4</td>\n",
       "      <td>3.0</td>\n",
       "      <td>3</td>\n",
       "      <td>0.0</td>\n",
       "    </tr>\n",
       "    <tr>\n",
       "      <th>4</th>\n",
       "      <td>2015</td>\n",
       "      <td>101653</td>\n",
       "      <td>351-8398</td>\n",
       "      <td>Female</td>\n",
       "      <td>40</td>\n",
       "      <td>191</td>\n",
       "      <td>no</td>\n",
       "      <td>no</td>\n",
       "      <td>243.00</td>\n",
       "      <td>10.9</td>\n",
       "      <td>27.54</td>\n",
       "      <td>83</td>\n",
       "      <td>7</td>\n",
       "      <td>3.0</td>\n",
       "      <td>1</td>\n",
       "      <td>0.0</td>\n",
       "    </tr>\n",
       "  </tbody>\n",
       "</table>\n",
       "</div>"
      ],
      "text/plain": [
       "   year  customer_id  phone_no  gender  age  no_of_days_subscribed  \\\n",
       "0  2015       100198  409-8743  Female   36                     62   \n",
       "1  2015       100643  340-5930  Female   39                    149   \n",
       "2  2015       100756  372-3750  Female   65                    126   \n",
       "3  2015       101595  331-4902  Female   24                    131   \n",
       "4  2015       101653  351-8398  Female   40                    191   \n",
       "\n",
       "  multi_screen mail_subscribed  weekly_mins_watched  minimum_daily_mins  \\\n",
       "0           no              no               148.35                12.2   \n",
       "1           no              no               294.45                 7.7   \n",
       "2           no              no                87.30                11.9   \n",
       "3           no             yes               321.30                 9.5   \n",
       "4           no              no               243.00                10.9   \n",
       "\n",
       "   maximum_daily_mins  weekly_max_night_mins  videos_watched  \\\n",
       "0               16.81                     82               1   \n",
       "1               33.37                     87               3   \n",
       "2                9.89                     91               1   \n",
       "3               36.41                    102               4   \n",
       "4               27.54                     83               7   \n",
       "\n",
       "   maximum_days_inactive  customer_support_calls  churn  \n",
       "0                    4.0                       1    0.0  \n",
       "1                    3.0                       2    0.0  \n",
       "2                    4.0                       5    1.0  \n",
       "3                    3.0                       3    0.0  \n",
       "4                    3.0                       1    0.0  "
      ]
     },
     "execution_count": 34,
     "metadata": {},
     "output_type": "execute_result"
    }
   ],
   "source": [
    "df.head()"
   ]
  },
  {
   "cell_type": "code",
   "execution_count": 35,
   "id": "051cfc6e",
   "metadata": {},
   "outputs": [],
   "source": [
    "x = torch.tensor(df[['weekly_mins_watched', 'minimum_daily_mins', 'maximum_daily_mins']].values)"
   ]
  },
  {
   "cell_type": "code",
   "execution_count": 36,
   "id": "0e453785",
   "metadata": {},
   "outputs": [
    {
     "data": {
      "text/plain": [
       "torch.Size([2000, 3])"
      ]
     },
     "execution_count": 36,
     "metadata": {},
     "output_type": "execute_result"
    }
   ],
   "source": [
    "x.shape"
   ]
  },
  {
   "cell_type": "code",
   "execution_count": 37,
   "id": "f308a147",
   "metadata": {},
   "outputs": [
    {
     "data": {
      "text/plain": [
       "torch.float64"
      ]
     },
     "execution_count": 37,
     "metadata": {},
     "output_type": "execute_result"
    }
   ],
   "source": [
    "x.dtype"
   ]
  },
  {
   "cell_type": "code",
   "execution_count": 39,
   "id": "4576b8ff",
   "metadata": {},
   "outputs": [
    {
     "name": "stdout",
     "output_type": "stream",
     "text": [
      "tensor([[296.7000,  24.4000,  33.6200],\n",
      "        [588.9000,  15.4000,  66.7400],\n",
      "        [174.6000,  23.8000,  19.7800],\n",
      "        ...,\n",
      "        [257.7000,  31.2000,  29.2000],\n",
      "        [356.1000,  20.8000,  40.3600],\n",
      "        [653.4000,  20.6000,  74.0600]], dtype=torch.float64)\n",
      "x2 shape: {} torch.Size([2000, 3])\n"
     ]
    }
   ],
   "source": [
    "x2 = torch.add(x,x)\n",
    "\n",
    "print(x2)\n",
    "print('x2 shape: {}', x2.shape)"
   ]
  },
  {
   "cell_type": "code",
   "execution_count": 41,
   "id": "832b497b",
   "metadata": {},
   "outputs": [
    {
     "name": "stdout",
     "output_type": "stream",
     "text": [
      "tensor([[0., 0., 0.],\n",
      "        [0., 0., 0.],\n",
      "        [0., 0., 0.],\n",
      "        ...,\n",
      "        [0., 0., 0.],\n",
      "        [0., 0., 0.],\n",
      "        [0., 0., 0.]], dtype=torch.float64)\n",
      "x3 shape: {} torch.Size([2000, 3])\n"
     ]
    }
   ],
   "source": [
    "x3 = torch.sub(x,x)\n",
    "\n",
    "print(x3)\n",
    "print('x3 shape: {}', x3.shape)"
   ]
  },
  {
   "cell_type": "code",
   "execution_count": 42,
   "id": "548a462d",
   "metadata": {},
   "outputs": [
    {
     "name": "stdout",
     "output_type": "stream",
     "text": [
      "tensor([[2.2008e+04, 1.4884e+02, 2.8258e+02],\n",
      "        [8.6701e+04, 5.9290e+01, 1.1136e+03],\n",
      "        [7.6213e+03, 1.4161e+02, 9.7812e+01],\n",
      "        ...,\n",
      "        [1.6602e+04, 2.4336e+02, 2.1316e+02],\n",
      "        [3.1702e+04, 1.0816e+02, 4.0723e+02],\n",
      "        [1.0673e+05, 1.0609e+02, 1.3712e+03]], dtype=torch.float64)\n",
      "x4 shape: {} torch.Size([2000, 3])\n"
     ]
    }
   ],
   "source": [
    "x4 = torch.multiply(x,x)\n",
    "\n",
    "print(x4)\n",
    "print('x4 shape: {}', x4.shape)"
   ]
  },
  {
   "cell_type": "code",
   "execution_count": 44,
   "id": "f6dbabee",
   "metadata": {},
   "outputs": [
    {
     "name": "stdout",
     "output_type": "stream",
     "text": [
      "tensor([[ 22439.1386,  44336.5472,  13262.3859,  ...,  19550.6435,\n",
      "          26879.8233,  49214.0793],\n",
      "        [ 44336.5472,  87873.6494,  26127.1443,  ...,  38547.2045,\n",
      "          53180.3091,  97511.8161],\n",
      "        [ 13262.3859,  26127.1443,   7860.7121,  ...,  11578.6390,\n",
      "          15867.1052,  29009.7067],\n",
      "        ...,\n",
      "        [ 19550.6435,  38547.2045,  11578.6390,  ...,  17058.8425,\n",
      "          23398.6105,  42796.6130],\n",
      "        [ 26879.8233,  53180.3091,  15867.1052,  ...,  23398.6105,\n",
      "          32217.1949,  59023.3204],\n",
      "        [ 49214.0793,  97511.8161,  29009.7067,  ...,  42796.6130,\n",
      "          59023.3204, 108210.2009]], dtype=torch.float64)\n",
      "x5 shape: {} torch.Size([2000, 2000])\n"
     ]
    }
   ],
   "source": [
    "x5 = x @ x.T\n",
    "\n",
    "print(x5)\n",
    "print('x5 shape: {}', x5.shape)"
   ]
  },
  {
   "cell_type": "code",
   "execution_count": null,
   "id": "0f823c28",
   "metadata": {},
   "outputs": [],
   "source": []
  }
 ],
 "metadata": {
  "kernelspec": {
   "display_name": "torch_gpu_env",
   "language": "python",
   "name": "python3"
  },
  "language_info": {
   "codemirror_mode": {
    "name": "ipython",
    "version": 3
   },
   "file_extension": ".py",
   "mimetype": "text/x-python",
   "name": "python",
   "nbconvert_exporter": "python",
   "pygments_lexer": "ipython3",
   "version": "3.10.0"
  }
 },
 "nbformat": 4,
 "nbformat_minor": 5
}
